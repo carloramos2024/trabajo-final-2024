{
 "cells": [
  {
   "cell_type": "markdown",
   "id": "9d77bb67-6ea8-428c-a3a6-c2ba436c3d22",
   "metadata": {},
   "source": [
    "# Exercise 2: Data Science Tools and Ecosystem"
   ]
  },
  {
   "cell_type": "markdown",
   "id": "b5ea537d-74d4-42c3-9e08-41530e7b7414",
   "metadata": {},
   "source": [
    "Exercise 3: This notebook summarizes the tools and ecosystem of data science."
   ]
  },
  {
   "cell_type": "markdown",
   "id": "d8337e9f-7712-4e2e-9864-e99f2a9747b7",
   "metadata": {},
   "source": [
    "## Exercise 4: Create a Markdown cell to list data science languages"
   ]
  },
  {
   "cell_type": "markdown",
   "id": "8705aeb3-ba39-4cc3-ba56-37bcbb5fd689",
   "metadata": {},
   "source": [
    "Some of the most popular languages ​​used by data scientists are:\n",
    "\n",
    "1. Python\n",
    "2. R\n",
    "3. SQL\n",
    "4. Julia\n",
    "5. Scala\n",
    "6. Java\n"
   ]
  },
  {
   "cell_type": "markdown",
   "id": "4609781e-d44f-4d44-b64e-df53b7de9bf4",
   "metadata": {},
   "source": [
    "## Exercise 5: Create a Markdown cell to list data science libraries"
   ]
  },
  {
   "cell_type": "markdown",
   "id": "f16c19b0-c58c-49ce-a06c-79dacc200c7c",
   "metadata": {},
   "source": [
    "Some of the libraries commonly used by data scientists include:\n",
    "\n",
    "1. Pandas\n",
    "2. NumPy\n",
    "3. Matplotlib\n",
    "4. Seaborn\n",
    "5. Scikit-learn\n",
    "6. TensorFlow\n",
    "7. SciPy\n"
   ]
  },
  {
   "cell_type": "markdown",
   "id": "6aea2f09-2cac-4fad-b6da-14d5615f6797",
   "metadata": {},
   "source": [
    "## Exercise 6: Create a Markdown cell with a data science tool table"
   ]
  },
  {
   "cell_type": "markdown",
   "id": "a74e1a90-1bd4-44cb-b6a3-0231fe762ed0",
   "metadata": {},
   "source": [
    "| Data Science Tools |\n",
    "|---------------------|\n",
    "| Jupyter Notebook |\n",
    "| RStudio |\n",
    "| VS Code (Visual Studio Code) |\n"
   ]
  },
  {
   "cell_type": "markdown",
   "id": "bd479689-5e48-4bf5-86f9-55e561de8b60",
   "metadata": {},
   "source": [
    "## Exercise 7: Create a Markdown cell that presents examples of arithmetic expressions"
   ]
  },
  {
   "cell_type": "markdown",
   "id": "df57c728-0e61-4e1b-9dc0-9de0c4bdff92",
   "metadata": {},
   "source": [
    "### Below are some examples of evaluating arithmetic expressions in Python."
   ]
  },
  {
   "cell_type": "markdown",
   "id": "440fe56d-df4e-4c6e-bd31-e9a9e147ce03",
   "metadata": {},
   "source": [
    "1. **Addition**: 6+7 = 13\n",
    "2. **Subtraction**: 45-8 = 37\n",
    "3. **Multiplication**: 15*2 = 30\n",
    "4. **Division**: 100/2 = 50\n",
    "5. **Using exponents**: 5**3 = 125\n",
    "6. **Mixed operation**: (5+2) * (10/2) + 2**2 = 39\n"
   ]
  },
  {
   "cell_type": "code",
   "execution_count": 103,
   "id": "e6f8e8f2-3a38-4f6c-8543-2fa31ade83a7",
   "metadata": {},
   "outputs": [
    {
     "data": {
      "text/plain": [
       "17"
      ]
     },
     "execution_count": 103,
     "metadata": {},
     "output_type": "execute_result"
    }
   ],
   "source": [
    "# Exercise 8: Mixed operation multiplication and addition using parentheses\n",
    "(3*4)+5"
   ]
  },
  {
   "cell_type": "markdown",
   "id": "bdae7c7d-ce08-4132-9cfc-a99dbd0ce464",
   "metadata": {},
   "source": [
    "## Exercise 9: Create a code cell to convert minutes to hours"
   ]
  },
  {
   "cell_type": "code",
   "execution_count": 106,
   "id": "823a53e3-e7ac-4bd7-bc8f-3c1881ee189c",
   "metadata": {},
   "outputs": [
    {
     "data": {
      "text/plain": [
       "33.333333333333336"
      ]
     },
     "execution_count": 106,
     "metadata": {},
     "output_type": "execute_result"
    }
   ],
   "source": [
    "# This will convert 200 minutes to hours\n",
    "200/6"
   ]
  },
  {
   "cell_type": "markdown",
   "id": "03a1b64a-2762-4d07-8760-77eda9624f05",
   "metadata": {},
   "source": [
    "## Exercise 10: Insert a Markdown cell to list the objectives"
   ]
  },
  {
   "cell_type": "markdown",
   "id": "e9183807-95d4-415c-951e-21381066f6e6",
   "metadata": {},
   "source": [
    "Exercise 3: This notebook summarizes the tools and ecosystem of data science."
   ]
  },
  {
   "cell_type": "markdown",
   "id": "35d36a66-932a-4ef9-aeb0-90449142fe82",
   "metadata": {},
   "source": [
    "**Objectives**\n",
    "\n",
    "1. Create a Jupyter notebook and name it.\n",
    "2. Create a Markdown cell for the Notebook Title with H1 style.\n",
    "3. Create a Markdown cell with the introduction to the notebook.\n",
    "4. Create a Markdown cell with a description line and a list of the most popular languages ​​in Data Science.\n",
    "5. Create a Markdown cell with a description line and a list of the libraries commonly used in Data Science.\n",
    "6. Create a table with 1 column and 3 rows with the tools for Data Science.\n",
    "7. Create a Markdown cell with text in H3 style and add arithmetic expressions.\n",
    "8. Create a code cell to multiply, add, and use parentheses.\n",
    "9. Create a code cell to convert minutes to hours.\n",
    "10. Create a Markdown cell to set the objectives covered in the Jupyter notebook."
   ]
  },
  {
   "cell_type": "markdown",
   "id": "2a90b305-4346-47d9-aeb6-0db034a14e86",
   "metadata": {},
   "source": [
    "## Create a Markdown cell to indicate the author's name"
   ]
  },
  {
   "cell_type": "markdown",
   "id": "d6523422-e103-42bd-94f5-28f31e1ea489",
   "metadata": {},
   "source": [
    "## Author:"
   ]
  },
  {
   "cell_type": "markdown",
   "id": "3f9ae480-996a-4959-b5fb-d14f09021c50",
   "metadata": {},
   "source": [
    "Andrea Parra"
   ]
  },
  {
   "cell_type": "code",
   "execution_count": null,
   "id": "7f85f194-ee1a-47b4-a0a2-e901619d8168",
   "metadata": {},
   "outputs": [],
   "source": []
  }
 ],
 "metadata": {
  "kernelspec": {
   "display_name": "Python 3 (ipykernel)",
   "language": "python",
   "name": "python3"
  },
  "language_info": {
   "codemirror_mode": {
    "name": "ipython",
    "version": 3
   },
   "file_extension": ".py",
   "mimetype": "text/x-python",
   "name": "python",
   "nbconvert_exporter": "python",
   "pygments_lexer": "ipython3",
   "version": "3.9.19"
  }
 },
 "nbformat": 4,
 "nbformat_minor": 5
}
