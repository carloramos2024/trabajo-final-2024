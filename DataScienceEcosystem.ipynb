{
 "cells": [
  {
   "cell_type": "markdown",
   "id": "9d77bb67-6ea8-428c-a3a6-c2ba436c3d22",
   "metadata": {},
   "source": [
    "# Ejercicio 2: Herramientas y ecosistema de ciencia de datos"
   ]
  },
  {
   "cell_type": "markdown",
   "id": "b5ea537d-74d4-42c3-9e08-41530e7b7414",
   "metadata": {},
   "source": [
    "Ejercicio 3: En este cuaderno se resumen las herramientas y el ecosistema de la ciencia de datos."
   ]
  },
  {
   "cell_type": "markdown",
   "id": "d8337e9f-7712-4e2e-9864-e99f2a9747b7",
   "metadata": {},
   "source": [
    "## Ejercicio 4: Crear una celda Markdown para enumerar los lenguajes de ciencia de datos"
   ]
  },
  {
   "cell_type": "markdown",
   "id": "8705aeb3-ba39-4cc3-ba56-37bcbb5fd689",
   "metadata": {},
   "source": [
    "Algunos de los lenguajes más populares que utilizan los científicos de datos son: \n",
    "\n",
    "1. Python\n",
    "2. R\n",
    "3. SQL\n",
    "4. Julia\n",
    "5. Scala\n",
    "6. Java\n"
   ]
  },
  {
   "cell_type": "markdown",
   "id": "4609781e-d44f-4d44-b64e-df53b7de9bf4",
   "metadata": {},
   "source": [
    "## Ejercicio 5: crear una celda Markdown para enumerar las bibliotecas de ciencia de datos"
   ]
  },
  {
   "cell_type": "markdown",
   "id": "f16c19b0-c58c-49ce-a06c-79dacc200c7c",
   "metadata": {},
   "source": [
    "Algunas de las bibliotecas comúnmente utilizadas por los científicos de datos incluyen:\n",
    "\n",
    "1. Pandas\n",
    "2. NumPy\n",
    "3. Matplotlib\n",
    "4. Seaborn\n",
    "5. Scikit-learn\n",
    "6. TensorFlow\n",
    "7. SciPy\n"
   ]
  },
  {
   "cell_type": "markdown",
   "id": "6aea2f09-2cac-4fad-b6da-14d5615f6797",
   "metadata": {},
   "source": [
    "## Ejercicio 6: crear una celda Markdown con una tabla de herramientas de ciencia de datos"
   ]
  },
  {
   "cell_type": "markdown",
   "id": "a74e1a90-1bd4-44cb-b6a3-0231fe762ed0",
   "metadata": {},
   "source": [
    "| Data Science Tools |\n",
    "|---------------------|\n",
    "| Jupyter Notebook |\n",
    "| RStudio |\n",
    "| VS Code (Visual Studio Code) |\n"
   ]
  },
  {
   "cell_type": "markdown",
   "id": "bd479689-5e48-4bf5-86f9-55e561de8b60",
   "metadata": {},
   "source": [
    "## Ejercicio 7: crear una celda Markdown que presente ejemplos de expresiones aritméticas"
   ]
  },
  {
   "cell_type": "markdown",
   "id": "df57c728-0e61-4e1b-9dc0-9de0c4bdff92",
   "metadata": {},
   "source": [
    "### A continuación se muestran algunos ejemplos de evaluación de expresiones aritméticas en Python."
   ]
  },
  {
   "cell_type": "markdown",
   "id": "440fe56d-df4e-4c6e-bd31-e9a9e147ce03",
   "metadata": {},
   "source": [
    "1. **Suma**: 6+7 = 13\n",
    "2. **Resta**: 45-8 = 37\n",
    "3. **Multiplicación**: 15*2 = 30\n",
    "4. **División**: 100/2 = 50\n",
    "5. **Uso de exponentes**: 5**3 = 125\n",
    "6. **Operación mixta**: (5+2) * (10/2) + 2**2 = 39\n"
   ]
  },
  {
   "cell_type": "code",
   "execution_count": 44,
   "id": "e6f8e8f2-3a38-4f6c-8543-2fa31ade83a7",
   "metadata": {},
   "outputs": [
    {
     "data": {
      "text/plain": [
       "17"
      ]
     },
     "execution_count": 44,
     "metadata": {},
     "output_type": "execute_result"
    }
   ],
   "source": [
    "# Ejercicio 8:  Operacion mixta multiplicación y suma con utilización de paréntes\n",
    "(3*4)+5"
   ]
  },
  {
   "cell_type": "markdown",
   "id": "bdae7c7d-ce08-4132-9cfc-a99dbd0ce464",
   "metadata": {},
   "source": [
    "## Ejercicio 9: cree una celda de código para convertir minutos a horas"
   ]
  },
  {
   "cell_type": "code",
   "execution_count": 48,
   "id": "823a53e3-e7ac-4bd7-bc8f-3c1881ee189c",
   "metadata": {},
   "outputs": [
    {
     "data": {
      "text/plain": [
       "33.333333333333336"
      ]
     },
     "execution_count": 48,
     "metadata": {},
     "output_type": "execute_result"
    }
   ],
   "source": [
    "# Esto convertirá 200 minutos en horas\n",
    "200/6"
   ]
  },
  {
   "cell_type": "markdown",
   "id": "03a1b64a-2762-4d07-8760-77eda9624f05",
   "metadata": {},
   "source": [
    "## Ejercicio 10: Insertar una celda Markdown para enumerar los objetivos"
   ]
  },
  {
   "cell_type": "markdown",
   "id": "e9183807-95d4-415c-951e-21381066f6e6",
   "metadata": {},
   "source": [
    "Ejercicio 3: En este cuaderno se resumen las herramientas y el ecosistema de la ciencia de datos."
   ]
  },
  {
   "cell_type": "markdown",
   "id": "35d36a66-932a-4ef9-aeb0-90449142fe82",
   "metadata": {},
   "source": [
    "**Objetivos**\n",
    "\n",
    "1. Crear un cuaderno de Jupyter y asignarle un nombre.\n",
    "2. Crear celda Markdown para el Título de cuaderno con estilo H1.\n",
    "3. Crear una celda Markdown con la introducción al cuaderno.\n",
    "4. Crear una celda Markdown con linea de descripción y enumeración  de los lenguajes más populares en Ciencia de datos.\n",
    "5. Crear una celda Markdown con linea de descripción y enumeración las bibliotecas de uso común en Ciencia de datos.\n",
    "6. Crear 1 tabla con 1 columna y 3 filas con las herramientas para la Ciencia de datos.\n",
    "7. Crear una celda Markdown con texto en estilo H3 y agregar expresiones aritméticas.\n",
    "8. Crear celda de código para multiplicar, sumar y utilizar paréntesis.\n",
    "9. Crear celda de código para convertir minutos en hora\n",
    "10. Crear una celda Markdown para establecer los objetivos cubierto en el cuaderno de Jupyter."
   ]
  },
  {
   "cell_type": "markdown",
   "id": "2a90b305-4346-47d9-aeb6-0db034a14e86",
   "metadata": {},
   "source": [
    "## Crear una celda Markdown para indicar el nombre del autor"
   ]
  },
  {
   "cell_type": "markdown",
   "id": "d6523422-e103-42bd-94f5-28f31e1ea489",
   "metadata": {},
   "source": [
    "## Autor: "
   ]
  },
  {
   "cell_type": "markdown",
   "id": "3f9ae480-996a-4959-b5fb-d14f09021c50",
   "metadata": {},
   "source": [
    "Andrea Parra"
   ]
  },
  {
   "cell_type": "code",
   "execution_count": null,
   "id": "7f85f194-ee1a-47b4-a0a2-e901619d8168",
   "metadata": {},
   "outputs": [],
   "source": []
  }
 ],
 "metadata": {
  "kernelspec": {
   "display_name": "Python 3 (ipykernel)",
   "language": "python",
   "name": "python3"
  },
  "language_info": {
   "codemirror_mode": {
    "name": "ipython",
    "version": 3
   },
   "file_extension": ".py",
   "mimetype": "text/x-python",
   "name": "python",
   "nbconvert_exporter": "python",
   "pygments_lexer": "ipython3",
   "version": "3.9.19"
  }
 },
 "nbformat": 4,
 "nbformat_minor": 5
}
